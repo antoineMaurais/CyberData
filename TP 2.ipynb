{
 "cells": [
  {
   "cell_type": "markdown",
   "metadata": {},
   "source": [
    "# TP : canal de diffusion anonyme et génération de secret\n",
    "\n",
    "Ce TP va consister à […]."
   ]
  },
  {
   "cell_type": "code",
   "execution_count": 20,
   "metadata": {},
   "outputs": [],
   "source": [
    "from datetime import datetime\n",
    "import random"
   ]
  },
  {
   "cell_type": "markdown",
   "metadata": {},
   "source": [
    "## Partie 1\n",
    "\n",
    "Dans cette première partie, on ."
   ]
  },
  {
   "cell_type": "code",
   "execution_count": 21,
   "metadata": {},
   "outputs": [],
   "source": [
    "DELAI_MIN_MS = 1\n",
    "DELAI_MAX_MS = 10\n",
    "\n",
    "\n",
    "class Canal:\n",
    "    file_messages = []\n",
    "\n",
    "    def poster_message_anonyme(self, message: str):\n",
    "        self.file_messages.append({\n",
    "            \"message\": message,\n",
    "            \"date\": datetime.now(),\n",
    "        })\n",
    "\n",
    "    def recuperer(self, debut: datetime, fin: datetime):\n",
    "        return [message for message in file_messages if debut <= message[\"date\"] <= fin]\n",
    "\n",
    "\n",
    "def generer_secret(canal: Canal, complice_a: str, complice_b: str, duree_ms: int):\n",
    "    debut = datetime.now()\n",
    "    messages_complice_a = []\n",
    "    messages_complice_b = []\n",
    "\n",
    "    # Tant que le délai n'est pas écoulé\n",
    "    while (datetime.now() - debut).microseconds < duree_ms * 1_000:\n",
    "        # Génère un message contenant aléatoirement le nom du complice A ou du complice B\n",
    "        message = {\n",
    "            \"message\": complice_a if random.random() < 0.5 else complice_b,\n",
    "            \"date\": datetime.now(),\n",
    "        }\n",
    "\n",
    "        # Enregistre le message au nom du complice A ou du complice B avec une chance équiprobable\n",
    "        if random.random() < 0.5:\n",
    "            messages_complice_a.append(message)\n",
    "        else:\n",
    "            messages_complice_b.append(message)\n",
    "\n",
    "        # Et l'envoie sur le canal\n",
    "        canal.poster_message_anonyme(message[\"message\"])\n",
    "\n",
    "        # Laisse un délai aléatoire s'éoculer avant le prochain message\n",
    "        sleep(random.randrange(DELAI_MIN_MS, DELAI_MAX_MS))\n",
    "\n",
    "    return (messages_complice_a, messages_complice_b)\n",
    "\n",
    "\n",
    "def extraire_secret(canal: Canal, messages_complice: list[dict], debut: datetime, duree_ms: int):\n",
    "    liste_messages = canal.recuperer(debut, debut + duree)\n",
    "    return [0 if message in messages_complice and message[\"message\"] == complice else 1 for message in liste_messages]"
   ]
  },
  {
   "cell_type": "markdown",
   "metadata": {},
   "source": [
    "## Tests\n",
    "\n",
    "[TODO les tests unitaires]"
   ]
  }
 ],
 "metadata": {
  "kernelspec": {
   "display_name": "Python 3",
   "language": "python",
   "name": "python3"
  },
  "language_info": {
   "codemirror_mode": {
    "name": "ipython",
    "version": 3
   },
   "file_extension": ".py",
   "mimetype": "text/x-python",
   "name": "python",
   "nbconvert_exporter": "python",
   "pygments_lexer": "ipython3",
   "version": "3.11.6"
  },
  "orig_nbformat": 4
 },
 "nbformat": 4,
 "nbformat_minor": 2
}
