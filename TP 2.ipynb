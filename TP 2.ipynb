{
 "cells": [
  {
   "cell_type": "markdown",
   "metadata": {},
   "source": [
    "# TP : canal de diffusion anonyme et génération de secret\n",
    "### Antoine Maurais et Florian Monfort – IAI 3\n",
    "\n",
    "Ce TP va consister à mettre en œuvre la création d’un secret partagé entre deux complices sur un canal de diffusion anonyme à partir de messages publics."
   ]
  },
  {
   "cell_type": "code",
   "execution_count": 92,
   "metadata": {},
   "outputs": [],
   "source": [
    "from datetime import datetime, timedelta\n",
    "from time import sleep\n",
    "from typing import NamedTuple\n",
    "import random"
   ]
  },
  {
   "cell_type": "markdown",
   "metadata": {},
   "source": [
    "## Partie 1\n",
    "\n",
    "Dans cette première partie, on crée une classe décrivant un canal de diffusion anonyme et on y met les deux méthodes voulues :"
   ]
  },
  {
   "cell_type": "code",
   "execution_count": 93,
   "metadata": {},
   "outputs": [],
   "source": [
    "class Message(NamedTuple):\n",
    "    contenu: str\n",
    "    date: datetime\n",
    "\n",
    "\n",
    "class Canal:\n",
    "    file_messages: list[Message] = []\n",
    "\n",
    "    def poster_message_anonyme(self, message: str):\n",
    "        message = Message(message, datetime.now())\n",
    "        self.file_messages.append(message)\n",
    "        return message\n",
    "\n",
    "    def recuperer_messages_anonymes(self, debut: datetime, fin: datetime):\n",
    "        return [message for message in self.file_messages if debut <= message.date <= fin]"
   ]
  },
  {
   "cell_type": "markdown",
   "metadata": {},
   "source": [
    "Note : l’algorithme choisi pour la récupération des messages anonymes n’est clairement pas optimal à cause de la structure de données choisie, mais faire mieux n’est pas le but de l’exercice."
   ]
  },
  {
   "cell_type": "markdown",
   "metadata": {},
   "source": [
    "## Partie 2"
   ]
  },
  {
   "cell_type": "code",
   "execution_count": 94,
   "metadata": {},
   "outputs": [],
   "source": [
    "DELAI_MIN_MS = 1\n",
    "DELAI_MAX_MS = 10\n",
    "\n",
    "\n",
    "def generer_secret(canal: Canal, complice_a: str, complice_b: str, duree_ms: int):\n",
    "    debut = datetime.now()\n",
    "    messages_complice_a = []\n",
    "    messages_complice_b = []\n",
    "\n",
    "    # Tant que le délai n'est pas écoulé\n",
    "    while (datetime.now() - debut).total_seconds() * 1_000 < duree_ms:\n",
    "        # Génère un message contenant aléatoirement le nom du complice A ou du complice B et l'envoie sur le canal\n",
    "        message = canal.poster_message_anonyme(complice_a if random.random() < 0.5 else complice_b)\n",
    "\n",
    "        # Puis l'enregistre au nom du complice A ou du complice B avec une chance équiprobable\n",
    "        if random.random() < 0.5:\n",
    "            messages_complice_a.append(message)\n",
    "        else:\n",
    "            messages_complice_b.append(message)\n",
    "\n",
    "        # Laisse un délai aléatoire s'écouler avant le prochain message\n",
    "        sleep(random.randrange(DELAI_MIN_MS, DELAI_MAX_MS) / 1_000)\n",
    "\n",
    "    return (messages_complice_a, messages_complice_b)\n",
    "\n",
    "\n",
    "def extraire_secret(canal: Canal, complice: str, messages_complice: list[Message], debut: datetime, duree_ms: int):\n",
    "    liste_messages = canal.recuperer_messages_anonymes(debut, debut + timedelta(milliseconds=duree_ms))\n",
    "\n",
    "    secret = \"\"\n",
    "    for message in liste_messages:\n",
    "        # Ajoute 0 au secret si le contenu du message est le nom de ce complice et qu'il l'a écrit, ou contient autre chose et qu'il ne l'a pas écrit\n",
    "        if (message.contenu == complice) == (message in messages_complice):\n",
    "            secret += \"0\"\n",
    "        # Dans tous les autres cas, ajoute 1\n",
    "        else:\n",
    "            secret += \"1\"\n",
    "\n",
    "    return secret"
   ]
  },
  {
   "cell_type": "markdown",
   "metadata": {},
   "source": [
    "On exécute notre programme et on affiche les secrets obtenus par Alice et Bob. On s’assure ainsi que le résultat qu’ils obtiennent est identique :"
   ]
  },
  {
   "cell_type": "code",
   "execution_count": 95,
   "metadata": {},
   "outputs": [
    {
     "name": "stdout",
     "output_type": "stream",
     "text": [
      "10010110010010100110110100\n",
      "10010110010010100110110100\n"
     ]
    }
   ],
   "source": [
    "canal = Canal()\n",
    "debut = datetime.now()\n",
    "duree_ms = 150\n",
    "messages_alice, messages_bob = generer_secret(canal, \"alice\", \"bob\", duree_ms)\n",
    "\n",
    "print(extraire_secret(canal, \"alice\", messages_alice, debut, duree_ms))\n",
    "print(extraire_secret(canal, \"bob\", messages_bob, debut, duree_ms))"
   ]
  },
  {
   "cell_type": "markdown",
   "metadata": {},
   "source": [
    "## Partie 3\n",
    "\n",
    "### Question 1\n",
    "\n",
    "* \n",
    "* \n",
    "\n",
    "### Question 2\n",
    "\n",
    "Un potentiel adversaire qui serait passif, se contentant de lire les échanges, ne serait pas en mesure de reconstituer car il ignore l’identité des auteurs des messages échangés entre Alice et Bob et donc la valeur, `0` ou `1`, à y associer pour composer la clé.\n",
    "\n",
    "### Question 3\n",
    "\n",
    "Cela fait émerger un moyen pour deux entités chiffrer symétriquement les messages qu’ils voudront s’échanger grâce au secret généré, et ce à partir d’un système à priori non sécurisé puisque toutes les communications y sont lisibles en clair."
   ]
  }
 ],
 "metadata": {
  "kernelspec": {
   "display_name": "Python 3",
   "language": "python",
   "name": "python3"
  },
  "language_info": {
   "codemirror_mode": {
    "name": "ipython",
    "version": 3
   },
   "file_extension": ".py",
   "mimetype": "text/x-python",
   "name": "python",
   "nbconvert_exporter": "python",
   "pygments_lexer": "ipython3",
   "version": "3.11.6"
  },
  "orig_nbformat": 4
 },
 "nbformat": 4,
 "nbformat_minor": 2
}
